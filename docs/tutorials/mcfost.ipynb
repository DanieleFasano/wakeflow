{
 "cells": [
  {
   "cell_type": "markdown",
   "metadata": {},
   "source": [
    "# Using Wakeflow with MCFOST"
   ]
  },
  {
   "cell_type": "markdown",
   "metadata": {},
   "source": [
    "This tutorial demonstrates the use of `wakeflow` models with the radiative transfer code `MCFOST` to create synthetic observations."
   ]
  },
  {
   "cell_type": "markdown",
   "metadata": {},
   "source": [
    "## Prerequisites"
   ]
  },
  {
   "cell_type": "markdown",
   "metadata": {},
   "source": [
    "Firstly, we will need working installations of both `MCFOST` (https://github.com/cpinte/mcfost) and `pymcfost` (https://github.com/cpinte/pymcfost).\n",
    "\n",
    "Let's check that our MCFOST installation is up to date and working by running the following shell command:"
   ]
  },
  {
   "cell_type": "code",
   "execution_count": 1,
   "metadata": {},
   "outputs": [
    {
     "name": "stdout",
     "output_type": "stream",
     "text": [
      " You are running MCFOST 3.0.44\n",
      " Git SHA = 8686df4719b1cadb7b1d82257fc576ec8072e0c0\n",
      " Binary compiled the Jul 18 2022 at 11:56:15\n",
      " with INTEL compiler version 2021\n",
      "  \n",
      " Checking last version ...\n",
      " MCFOST is up-to-date\n"
     ]
    }
   ],
   "source": [
    "!mcfost -v"
   ]
  },
  {
   "cell_type": "markdown",
   "metadata": {},
   "source": [
    "And checking the `pymcfost` installation by importing it:"
   ]
  },
  {
   "cell_type": "code",
   "execution_count": 2,
   "metadata": {},
   "outputs": [
    {
     "name": "stdout",
     "output_type": "stream",
     "text": [
      "WARNING: mpl_scatter_density is not present\n",
      "WARNING: progressbar is not present\n"
     ]
    }
   ],
   "source": [
    "import pymcfost"
   ]
  },
  {
   "cell_type": "markdown",
   "metadata": {},
   "source": [
    "Provided both of these installations are working, and `wakeflow` is installed, you should be ready to proceed with the rest of the tutorial."
   ]
  },
  {
   "cell_type": "markdown",
   "metadata": {},
   "source": [
    "## Required Paramaters"
   ]
  },
  {
   "cell_type": "markdown",
   "metadata": {},
   "source": [
    "## Outputting a .FITS file"
   ]
  },
  {
   "cell_type": "markdown",
   "metadata": {},
   "source": [
    "## Running MCFOST"
   ]
  }
 ],
 "metadata": {
  "kernelspec": {
   "display_name": "Python 3.9.13 64-bit ('base')",
   "language": "python",
   "name": "python3"
  },
  "language_info": {
   "codemirror_mode": {
    "name": "ipython",
    "version": 3
   },
   "file_extension": ".py",
   "mimetype": "text/x-python",
   "name": "python",
   "nbconvert_exporter": "python",
   "pygments_lexer": "ipython3",
   "version": "3.9.13"
  },
  "orig_nbformat": 4,
  "vscode": {
   "interpreter": {
    "hash": "2ac3d5d3a4336f34c662130573d1ea696fb4dfcbf6baf7c9925b84262e1f6ae2"
   }
  }
 },
 "nbformat": 4,
 "nbformat_minor": 2
}
