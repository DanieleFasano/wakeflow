{
 "cells": [
  {
   "cell_type": "code",
   "execution_count": 1,
   "metadata": {},
   "outputs": [
    {
     "name": "stdout",
     "output_type": "stream",
     "text": [
      "You may safely ignore these warnings:\n",
      "WARNING: mpl_scatter_density is not present\n",
      "WARNING: progressbar is not present\n"
     ]
    }
   ],
   "source": [
    "from wakeflow import WakeflowModel"
   ]
  },
  {
   "cell_type": "code",
   "execution_count": 2,
   "metadata": {},
   "outputs": [
    {
     "name": "stdout",
     "output_type": "stream",
     "text": [
      "Model initialised.\n"
     ]
    }
   ],
   "source": [
    "model = WakeflowModel()"
   ]
  },
  {
   "cell_type": "code",
   "execution_count": 3,
   "metadata": {},
   "outputs": [
    {
     "name": "stdout",
     "output_type": "stream",
     "text": [
      "\n",
      "* Performing sanity checks on model parameters:\n",
      "M_thermal = 0.698 M_Jup\n",
      "M_planet  = 0.143 M_th\n",
      "Parameters Ok - continuing\n",
      "Overwriting previous results\n",
      "\n",
      "* Creating 0.1 Mj model:\n",
      "Generating unperturbed background disk\n",
      "Extracting linear perturbations nearby planet\n",
      "/Users/tomhilder/Documents/Research/Protoplanetary_Discs/wakeflow/wakeflow/data\n"
     ]
    },
    {
     "ename": "NameError",
     "evalue": "name 'pert_loc' is not defined",
     "output_type": "error",
     "traceback": [
      "\u001b[0;31m---------------------------------------------------------------------------\u001b[0m",
      "\u001b[0;31mNameError\u001b[0m                                 Traceback (most recent call last)",
      "\u001b[1;32m/Users/tomhilder/Documents/Research/Protoplanetary_Discs/wakeflow/tutorial.ipynb Cell 3\u001b[0m in \u001b[0;36m<cell line: 1>\u001b[0;34m()\u001b[0m\n\u001b[0;32m----> <a href='vscode-notebook-cell:/Users/tomhilder/Documents/Research/Protoplanetary_Discs/wakeflow/tutorial.ipynb#ch0000002?line=0'>1</a>\u001b[0m model\u001b[39m.\u001b[39;49mrun(overwrite\u001b[39m=\u001b[39;49m\u001b[39mTrue\u001b[39;49;00m)\n",
      "File \u001b[0;32m~/Documents/Research/Protoplanetary_Discs/wakeflow/wakeflow/wakeflow.py:57\u001b[0m, in \u001b[0;36mWakeflowModel.run\u001b[0;34m(self, overwrite)\u001b[0m\n\u001b[1;32m     55\u001b[0m     params\u001b[39m.\u001b[39mm_planet \u001b[39m=\u001b[39m mass_p\n\u001b[1;32m     56\u001b[0m     \u001b[39mprint\u001b[39m(\u001b[39mf\u001b[39m\u001b[39m\"\u001b[39m\u001b[39m\\n\u001b[39;00m\u001b[39m* Creating \u001b[39m\u001b[39m{\u001b[39;00mmass_p\u001b[39m}\u001b[39;00m\u001b[39m Mj model:\u001b[39m\u001b[39m\"\u001b[39m)\n\u001b[0;32m---> 57\u001b[0m     \u001b[39mself\u001b[39;49m\u001b[39m.\u001b[39;49m_run_wakeflow(params)\n\u001b[1;32m     59\u001b[0m \u001b[39m# run mcfost for each model\u001b[39;00m\n\u001b[1;32m     60\u001b[0m \u001b[39mif\u001b[39;00m params\u001b[39m.\u001b[39mrun_mcfost \u001b[39m==\u001b[39m \u001b[39mTrue\u001b[39;00m:\n",
      "File \u001b[0;32m~/Documents/Research/Protoplanetary_Discs/wakeflow/wakeflow/wakeflow.py:95\u001b[0m, in \u001b[0;36mWakeflowModel._run_wakeflow\u001b[0;34m(self, params)\u001b[0m\n\u001b[1;32m     92\u001b[0m grid_lin_perts\u001b[39m.\u001b[39mmake_empty_disk()\n\u001b[1;32m     94\u001b[0m \u001b[39m# extract linear perturbations from file\u001b[39;00m\n\u001b[0;32m---> 95\u001b[0m lin_perts \u001b[39m=\u001b[39m LinearPerts(params)\n\u001b[1;32m     96\u001b[0m lin_perts\u001b[39m.\u001b[39mcut_box_annulus_segment()\n\u001b[1;32m     98\u001b[0m \u001b[39m# add the linear perturbations onto grid\u001b[39;00m\n",
      "File \u001b[0;32m~/Documents/Research/Protoplanetary_Discs/wakeflow/wakeflow/linear_perts.py:28\u001b[0m, in \u001b[0;36mLinearPerts.__init__\u001b[0;34m(self, parameters)\u001b[0m\n\u001b[1;32m     23\u001b[0m \u001b[39m#pert_loc = pkg_resources.resource_filename('wakeflow', 'data/linear_perturbations.npy')\u001b[39;00m\n\u001b[1;32m     24\u001b[0m \u001b[39m#mesh_loc = pkg_resources.resource_filename('wakeflow', 'data/linear_perturbations_mesh.npy')\u001b[39;00m\n\u001b[1;32m     25\u001b[0m \n\u001b[1;32m     26\u001b[0m \u001b[39m# read perturbations from files\u001b[39;00m\n\u001b[1;32m     27\u001b[0m \u001b[39mtry\u001b[39;00m:\n\u001b[0;32m---> 28\u001b[0m     perts \u001b[39m=\u001b[39m np\u001b[39m.\u001b[39mload(pert_loc)\n\u001b[1;32m     29\u001b[0m     mesh  \u001b[39m=\u001b[39m np\u001b[39m.\u001b[39mload(mesh_loc)\n\u001b[1;32m     31\u001b[0m \u001b[39m# in the case files have not been extracted from tarballs yet, extract them\u001b[39;00m\n",
      "\u001b[0;31mNameError\u001b[0m: name 'pert_loc' is not defined"
     ]
    }
   ],
   "source": [
    "model.run(overwrite=True)"
   ]
  },
  {
   "cell_type": "code",
   "execution_count": null,
   "metadata": {},
   "outputs": [],
   "source": []
  }
 ],
 "metadata": {
  "kernelspec": {
   "display_name": "Python 3.8.12 64-bit ('base_env')",
   "language": "python",
   "name": "python3"
  },
  "language_info": {
   "codemirror_mode": {
    "name": "ipython",
    "version": 3
   },
   "file_extension": ".py",
   "mimetype": "text/x-python",
   "name": "python",
   "nbconvert_exporter": "python",
   "pygments_lexer": "ipython3",
   "version": "3.8.12"
  },
  "orig_nbformat": 4,
  "vscode": {
   "interpreter": {
    "hash": "51ea779fa5b33096d0ce3023c10da8347b2511d014abe854db383f5fa05188ce"
   }
  }
 },
 "nbformat": 4,
 "nbformat_minor": 2
}
