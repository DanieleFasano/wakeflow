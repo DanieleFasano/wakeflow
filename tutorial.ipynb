{
 "cells": [
  {
   "cell_type": "code",
   "execution_count": 1,
   "metadata": {},
   "outputs": [
    {
     "name": "stdout",
     "output_type": "stream",
     "text": [
      "You may safely ignore these warnings:\n",
      "WARNING: mpl_scatter_density is not present\n",
      "WARNING: progressbar is not present\n"
     ]
    }
   ],
   "source": [
    "from wakeflow import WakeflowModel"
   ]
  },
  {
   "cell_type": "code",
   "execution_count": 2,
   "metadata": {},
   "outputs": [
    {
     "name": "stdout",
     "output_type": "stream",
     "text": [
      "Model initialised.\n"
     ]
    }
   ],
   "source": [
    "model = WakeflowModel()"
   ]
  },
  {
   "cell_type": "code",
   "execution_count": 3,
   "metadata": {},
   "outputs": [
    {
     "name": "stdout",
     "output_type": "stream",
     "text": [
      "\n",
      "* Performing sanity checks on model parameters:\n",
      "M_thermal = 0.698 M_Jup\n",
      "M_planet  = 0.143 M_th\n",
      "Parameters Ok - continuing\n",
      "Overwriting previous results\n",
      "\n",
      "* Creating 0.1 Mj model:\n",
      "Generating unperturbed background disk\n",
      "Extracting linear perturbations nearby planet\n",
      "Propagating outer wake... "
     ]
    },
    {
     "ename": "KeyboardInterrupt",
     "evalue": "",
     "output_type": "error",
     "traceback": [
      "\u001b[0;31m---------------------------------------------------------------------------\u001b[0m",
      "\u001b[0;31mKeyboardInterrupt\u001b[0m                         Traceback (most recent call last)",
      "\u001b[1;32m/Users/tomhilder/Documents/Research/Protoplanetary_Discs/wakeflow/tutorial.ipynb Cell 3\u001b[0m in \u001b[0;36m<cell line: 1>\u001b[0;34m()\u001b[0m\n\u001b[0;32m----> <a href='vscode-notebook-cell:/Users/tomhilder/Documents/Research/Protoplanetary_Discs/wakeflow/tutorial.ipynb#ch0000002?line=0'>1</a>\u001b[0m model\u001b[39m.\u001b[39;49mrun(overwrite\u001b[39m=\u001b[39;49m\u001b[39mTrue\u001b[39;49;00m)\n",
      "File \u001b[0;32m~/Documents/Research/Protoplanetary_Discs/wakeflow/wakeflow/wakeflow.py:57\u001b[0m, in \u001b[0;36mWakeflowModel.run\u001b[0;34m(self, overwrite)\u001b[0m\n\u001b[1;32m     55\u001b[0m     params\u001b[39m.\u001b[39mm_planet \u001b[39m=\u001b[39m mass_p\n\u001b[1;32m     56\u001b[0m     \u001b[39mprint\u001b[39m(\u001b[39mf\u001b[39m\u001b[39m\"\u001b[39m\u001b[39m\\n\u001b[39;00m\u001b[39m* Creating \u001b[39m\u001b[39m{\u001b[39;00mmass_p\u001b[39m}\u001b[39;00m\u001b[39m Mj model:\u001b[39m\u001b[39m\"\u001b[39m)\n\u001b[0;32m---> 57\u001b[0m     \u001b[39mself\u001b[39;49m\u001b[39m.\u001b[39;49m_run_wakeflow(params)\n\u001b[1;32m     59\u001b[0m \u001b[39m# run mcfost for each model\u001b[39;00m\n\u001b[1;32m     60\u001b[0m \u001b[39mif\u001b[39;00m params\u001b[39m.\u001b[39mrun_mcfost \u001b[39m==\u001b[39m \u001b[39mTrue\u001b[39;00m:\n",
      "File \u001b[0;32m~/Documents/Research/Protoplanetary_Discs/wakeflow/wakeflow/wakeflow.py:115\u001b[0m, in \u001b[0;36mWakeflowModel._run_wakeflow\u001b[0;34m(self, params)\u001b[0m\n\u001b[1;32m    112\u001b[0m     nonlin_perts\u001b[39m.\u001b[39mextract_ICs_ann(lin_perts)\n\u001b[1;32m    114\u001b[0m \u001b[39m# solve for non-linear perturbations\u001b[39;00m\n\u001b[0;32m--> 115\u001b[0m nonlin_perts\u001b[39m.\u001b[39;49mget_non_linear_perts()\n\u001b[1;32m    117\u001b[0m \u001b[39m# add non-linear perturbations to grid\u001b[39;00m\n\u001b[1;32m    118\u001b[0m grid_nonlin_perts\u001b[39m.\u001b[39madd_non_linear_perturbations(nonlin_perts, grid_background\u001b[39m.\u001b[39mrho)\n",
      "File \u001b[0;32m~/Documents/Research/Protoplanetary_Discs/wakeflow/wakeflow/non_linear_perts.py:439\u001b[0m, in \u001b[0;36mNonLinearPerts.get_non_linear_perts\u001b[0;34m(self)\u001b[0m\n\u001b[1;32m    435\u001b[0m \u001b[39mprint\u001b[39m(\u001b[39m'\u001b[39m\u001b[39mPropagating outer wake... \u001b[39m\u001b[39m'\u001b[39m, end\u001b[39m=\u001b[39m\u001b[39m'\u001b[39m\u001b[39m'\u001b[39m)\n\u001b[1;32m    437\u001b[0m timer_0 \u001b[39m=\u001b[39m time\u001b[39m.\u001b[39mperf_counter()\n\u001b[0;32m--> 439\u001b[0m time_outer, eta_outer, solution_outer \u001b[39m=\u001b[39m solve_burgers(\n\u001b[1;32m    440\u001b[0m     \u001b[39mself\u001b[39;49m\u001b[39m.\u001b[39;49meta_outer, \n\u001b[1;32m    441\u001b[0m     \u001b[39mself\u001b[39;49m\u001b[39m.\u001b[39;49mprofile_outer, \n\u001b[1;32m    442\u001b[0m     \u001b[39mself\u001b[39;49m\u001b[39m.\u001b[39;49mp\u001b[39m.\u001b[39;49mgamma, \n\u001b[1;32m    443\u001b[0m     beta_p, \n\u001b[1;32m    444\u001b[0m     \u001b[39mself\u001b[39;49m\u001b[39m.\u001b[39;49mC_outer, \n\u001b[1;32m    445\u001b[0m     \u001b[39mself\u001b[39;49m\u001b[39m.\u001b[39;49mp\u001b[39m.\u001b[39;49mCFL, \n\u001b[1;32m    446\u001b[0m     \u001b[39mself\u001b[39;49m\u001b[39m.\u001b[39;49meta_tilde_outer, \n\u001b[1;32m    447\u001b[0m     \u001b[39mself\u001b[39;49m\u001b[39m.\u001b[39;49mt0_outer, \n\u001b[1;32m    448\u001b[0m     \u001b[39mself\u001b[39;49m\u001b[39m.\u001b[39;49mlinear_solution, \n\u001b[1;32m    449\u001b[0m     \u001b[39mself\u001b[39;49m\u001b[39m.\u001b[39;49mlinear_t, \n\u001b[1;32m    450\u001b[0m     \u001b[39mself\u001b[39;49m\u001b[39m.\u001b[39;49mp\u001b[39m.\u001b[39;49mshow_teta_debug_plots,\n\u001b[1;32m    451\u001b[0m     \u001b[39mself\u001b[39;49m\u001b[39m.\u001b[39;49mp\u001b[39m.\u001b[39;49mtf_fac\n\u001b[1;32m    452\u001b[0m )\n\u001b[1;32m    454\u001b[0m timer_1 \u001b[39m=\u001b[39m time\u001b[39m.\u001b[39mperf_counter()\n\u001b[1;32m    456\u001b[0m \u001b[39mprint\u001b[39m(\u001b[39mf\u001b[39m\u001b[39m'\u001b[39m\u001b[39mfinished in \u001b[39m\u001b[39m{\u001b[39;00mtimer_1\u001b[39m-\u001b[39mtimer_0\u001b[39m:\u001b[39;00m\u001b[39m0.2f\u001b[39m\u001b[39m}\u001b[39;00m\u001b[39m s\u001b[39m\u001b[39m'\u001b[39m)\n",
      "File \u001b[0;32m~/Documents/Research/Protoplanetary_Discs/wakeflow/wakeflow/burgers.py:140\u001b[0m, in \u001b[0;36msolve_burgers\u001b[0;34m(eta, profile, gamma, beta_p, C, CFL, eta_tilde, t0, linear_solution, linear_t, show_teta, tf_fac)\u001b[0m\n\u001b[1;32m    138\u001b[0m     uL   \u001b[39m=\u001b[39m solution[\u001b[39m-\u001b[39m\u001b[39m1\u001b[39m][i \u001b[39m-\u001b[39m \u001b[39m1\u001b[39m]\n\u001b[1;32m    139\u001b[0m     uR   \u001b[39m=\u001b[39m solution[\u001b[39m-\u001b[39m\u001b[39m1\u001b[39m][i]\n\u001b[0;32m--> 140\u001b[0m     F[i] \u001b[39m=\u001b[39m NumericalFlux(uL, uR)\n\u001b[1;32m    142\u001b[0m \u001b[39m# compute the left boundary flux\u001b[39;00m\n\u001b[1;32m    143\u001b[0m \u001b[39mif\u001b[39;00m solution[\u001b[39m-\u001b[39m\u001b[39m1\u001b[39m][\u001b[39m0\u001b[39m] \u001b[39m<\u001b[39m \u001b[39m0.0\u001b[39m:\n",
      "File \u001b[0;32m~/Documents/Research/Protoplanetary_Discs/wakeflow/wakeflow/burgers.py:117\u001b[0m, in \u001b[0;36msolve_burgers.<locals>.NumericalFlux\u001b[0;34m(uL, uR)\u001b[0m\n\u001b[1;32m    115\u001b[0m \u001b[39mdef\u001b[39;00m \u001b[39mNumericalFlux\u001b[39m(uL, uR):\n\u001b[1;32m    116\u001b[0m     \u001b[39m# return CentralDifferenceFlux(uL,uR)\u001b[39;00m\n\u001b[0;32m--> 117\u001b[0m     \u001b[39mreturn\u001b[39;00m GodunovNumericalFlux(uL, uR)\n",
      "File \u001b[0;32m~/Documents/Research/Protoplanetary_Discs/wakeflow/wakeflow/burgers.py:99\u001b[0m, in \u001b[0;36msolve_burgers.<locals>.GodunovNumericalFlux\u001b[0;34m(uL, uR)\u001b[0m\n\u001b[1;32m     96\u001b[0m FR \u001b[39m=\u001b[39m flux(uR)\n\u001b[1;32m     98\u001b[0m \u001b[39m# compute the shock speed\u001b[39;00m\n\u001b[0;32m---> 99\u001b[0m s \u001b[39m=\u001b[39m \u001b[39m0.5\u001b[39;49m \u001b[39m*\u001b[39;49m (uL \u001b[39m+\u001b[39;49m uR)\n\u001b[1;32m    101\u001b[0m \u001b[39m# from Toro's book\u001b[39;00m\n\u001b[1;32m    102\u001b[0m \u001b[39mif\u001b[39;00m (uL \u001b[39m>\u001b[39m\u001b[39m=\u001b[39m uR):\n",
      "\u001b[0;31mKeyboardInterrupt\u001b[0m: "
     ]
    }
   ],
   "source": [
    "model.run(overwrite=True)"
   ]
  },
  {
   "cell_type": "code",
   "execution_count": null,
   "metadata": {},
   "outputs": [],
   "source": []
  }
 ],
 "metadata": {
  "kernelspec": {
   "display_name": "Python 3.8.12 64-bit ('base_env')",
   "language": "python",
   "name": "python3"
  },
  "language_info": {
   "codemirror_mode": {
    "name": "ipython",
    "version": 3
   },
   "file_extension": ".py",
   "mimetype": "text/x-python",
   "name": "python",
   "nbconvert_exporter": "python",
   "pygments_lexer": "ipython3",
   "version": "3.8.12"
  },
  "orig_nbformat": 4,
  "vscode": {
   "interpreter": {
    "hash": "51ea779fa5b33096d0ce3023c10da8347b2511d014abe854db383f5fa05188ce"
   }
  }
 },
 "nbformat": 4,
 "nbformat_minor": 2
}
